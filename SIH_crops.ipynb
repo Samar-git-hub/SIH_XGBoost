{
  "nbformat": 4,
  "nbformat_minor": 0,
  "metadata": {
    "colab": {
      "provenance": []
    },
    "kernelspec": {
      "name": "python3",
      "display_name": "Python 3"
    },
    "language_info": {
      "name": "python"
    }
  },
  "cells": [
    {
      "cell_type": "markdown",
      "source": [
        "# ML MINIONS\n",
        "\n",
        "An XGBoost model to predict crop yield"
      ],
      "metadata": {
        "id": "gyF5w0iraCKY"
      }
    },
    {
      "cell_type": "markdown",
      "source": [
        "### Libraries"
      ],
      "metadata": {
        "id": "-E5Cuoh0Z5E4"
      }
    },
    {
      "cell_type": "code",
      "source": [
        "# for target encoding\n",
        "!pip install --upgrade category_encoders xgboost"
      ],
      "metadata": {
        "colab": {
          "base_uri": "https://localhost:8080/"
        },
        "id": "As-wZ7PhnSOg",
        "outputId": "cc4f0429-86b4-42bf-9103-f747a7794af6"
      },
      "execution_count": 1,
      "outputs": [
        {
          "output_type": "stream",
          "name": "stdout",
          "text": [
            "Requirement already satisfied: category_encoders in /usr/local/lib/python3.12/dist-packages (2.8.1)\n",
            "Requirement already satisfied: xgboost in /usr/local/lib/python3.12/dist-packages (3.0.5)\n",
            "Requirement already satisfied: numpy>=1.14.0 in /usr/local/lib/python3.12/dist-packages (from category_encoders) (2.0.2)\n",
            "Requirement already satisfied: pandas>=1.0.5 in /usr/local/lib/python3.12/dist-packages (from category_encoders) (2.2.2)\n",
            "Requirement already satisfied: patsy>=0.5.1 in /usr/local/lib/python3.12/dist-packages (from category_encoders) (1.0.1)\n",
            "Requirement already satisfied: scikit-learn>=1.6.0 in /usr/local/lib/python3.12/dist-packages (from category_encoders) (1.6.1)\n",
            "Requirement already satisfied: scipy>=1.0.0 in /usr/local/lib/python3.12/dist-packages (from category_encoders) (1.16.2)\n",
            "Requirement already satisfied: statsmodels>=0.9.0 in /usr/local/lib/python3.12/dist-packages (from category_encoders) (0.14.5)\n",
            "Requirement already satisfied: nvidia-nccl-cu12 in /usr/local/lib/python3.12/dist-packages (from xgboost) (2.27.3)\n",
            "Requirement already satisfied: python-dateutil>=2.8.2 in /usr/local/lib/python3.12/dist-packages (from pandas>=1.0.5->category_encoders) (2.9.0.post0)\n",
            "Requirement already satisfied: pytz>=2020.1 in /usr/local/lib/python3.12/dist-packages (from pandas>=1.0.5->category_encoders) (2025.2)\n",
            "Requirement already satisfied: tzdata>=2022.7 in /usr/local/lib/python3.12/dist-packages (from pandas>=1.0.5->category_encoders) (2025.2)\n",
            "Requirement already satisfied: joblib>=1.2.0 in /usr/local/lib/python3.12/dist-packages (from scikit-learn>=1.6.0->category_encoders) (1.5.2)\n",
            "Requirement already satisfied: threadpoolctl>=3.1.0 in /usr/local/lib/python3.12/dist-packages (from scikit-learn>=1.6.0->category_encoders) (3.6.0)\n",
            "Requirement already satisfied: packaging>=21.3 in /usr/local/lib/python3.12/dist-packages (from statsmodels>=0.9.0->category_encoders) (25.0)\n",
            "Requirement already satisfied: six>=1.5 in /usr/local/lib/python3.12/dist-packages (from python-dateutil>=2.8.2->pandas>=1.0.5->category_encoders) (1.17.0)\n"
          ]
        }
      ]
    },
    {
      "cell_type": "code",
      "execution_count": 2,
      "metadata": {
        "id": "O87Rf87HwXw4"
      },
      "outputs": [],
      "source": [
        "import numpy as np\n",
        "import pandas as pd\n",
        "\n",
        "# for target encoding\n",
        "import category_encoders as ce\n",
        "\n",
        "# train test split\n",
        "from sklearn.model_selection import train_test_split\n",
        "\n",
        "# model\n",
        "import xgboost as xgb\n",
        "from sklearn.metrics import r2_score, mean_absolute_error, median_absolute_error, mean_squared_error"
      ]
    },
    {
      "cell_type": "code",
      "source": [
        "try:\n",
        "    df = pd.read_csv('crop_yield.csv')\n",
        "    print(\"Successfully loaded crop_yield.csv\")\n",
        "    print(\"Dataset shape:\", df.shape)\n",
        "    print(\"Dataset preview:\")\n",
        "    print(df.head())\n",
        "except FileNotFoundError:\n",
        "    print(\"Error: 'crop_yield.csv' not found. Please make sure the file is in the correct directory.\")\n",
        "    exit()"
      ],
      "metadata": {
        "colab": {
          "base_uri": "https://localhost:8080/"
        },
        "id": "d3cTE7Qry-ci",
        "outputId": "944a59d7-aae5-4498-c56f-cd867d30beac"
      },
      "execution_count": 3,
      "outputs": [
        {
          "output_type": "stream",
          "name": "stdout",
          "text": [
            "Successfully loaded crop_yield.csv\n",
            "Dataset shape: (19689, 10)\n",
            "Dataset preview:\n",
            "           Crop  Crop_Year       Season  State     Area  Production  \\\n",
            "0      Arecanut       1997  Whole Year   Assam  73814.0       56708   \n",
            "1     Arhar/Tur       1997  Kharif       Assam   6637.0        4685   \n",
            "2   Castor seed       1997  Kharif       Assam    796.0          22   \n",
            "3      Coconut        1997  Whole Year   Assam  19656.0   126905000   \n",
            "4  Cotton(lint)       1997  Kharif       Assam   1739.0         794   \n",
            "\n",
            "   Annual_Rainfall  Fertilizer  Pesticide        Yield  \n",
            "0           2051.4  7024878.38   22882.34     0.796087  \n",
            "1           2051.4   631643.29    2057.47     0.710435  \n",
            "2           2051.4    75755.32     246.76     0.238333  \n",
            "3           2051.4  1870661.52    6093.36  5238.051739  \n",
            "4           2051.4   165500.63     539.09     0.420909  \n"
          ]
        }
      ]
    },
    {
      "cell_type": "markdown",
      "source": [
        "### Data Preprocessing"
      ],
      "metadata": {
        "id": "MtlD_ZVwaf9M"
      }
    },
    {
      "cell_type": "code",
      "source": [
        "df['Fertilizer_per_Area'] = df['Fertilizer'] / (df['Area'] + 1e-6)\n",
        "df['Pesticide_per_Area'] = df['Pesticide'] / (df['Area'] + 1e-6)\n",
        "df = df[df['Crop'] != 'Coconut '] # skewed problematic\n",
        "\n",
        "X = df.drop(['Yield', 'Production', 'Area', 'Fertilizer', 'Pesticide'], axis=1)\n",
        "y = df['Yield']"
      ],
      "metadata": {
        "id": "31LW9Lf5zALR"
      },
      "execution_count": 4,
      "outputs": []
    },
    {
      "cell_type": "code",
      "source": [
        "X.head()"
      ],
      "metadata": {
        "colab": {
          "base_uri": "https://localhost:8080/",
          "height": 278
        },
        "id": "-zLgQPc90Eij",
        "outputId": "2de8b0b1-0f27-459b-d368-5915d35a6c42"
      },
      "execution_count": 5,
      "outputs": [
        {
          "output_type": "execute_result",
          "data": {
            "text/plain": [
              "           Crop  Crop_Year       Season  State  Annual_Rainfall  \\\n",
              "0      Arecanut       1997  Whole Year   Assam           2051.4   \n",
              "1     Arhar/Tur       1997  Kharif       Assam           2051.4   \n",
              "2   Castor seed       1997  Kharif       Assam           2051.4   \n",
              "4  Cotton(lint)       1997  Kharif       Assam           2051.4   \n",
              "5  Dry chillies       1997  Whole Year   Assam           2051.4   \n",
              "\n",
              "   Fertilizer_per_Area  Pesticide_per_Area  \n",
              "0                95.17                0.31  \n",
              "1                95.17                0.31  \n",
              "2                95.17                0.31  \n",
              "4                95.17                0.31  \n",
              "5                95.17                0.31  "
            ],
            "text/html": [
              "\n",
              "  <div id=\"df-2622d246-d25f-4d12-be9c-f60ca95d771c\" class=\"colab-df-container\">\n",
              "    <div>\n",
              "<style scoped>\n",
              "    .dataframe tbody tr th:only-of-type {\n",
              "        vertical-align: middle;\n",
              "    }\n",
              "\n",
              "    .dataframe tbody tr th {\n",
              "        vertical-align: top;\n",
              "    }\n",
              "\n",
              "    .dataframe thead th {\n",
              "        text-align: right;\n",
              "    }\n",
              "</style>\n",
              "<table border=\"1\" class=\"dataframe\">\n",
              "  <thead>\n",
              "    <tr style=\"text-align: right;\">\n",
              "      <th></th>\n",
              "      <th>Crop</th>\n",
              "      <th>Crop_Year</th>\n",
              "      <th>Season</th>\n",
              "      <th>State</th>\n",
              "      <th>Annual_Rainfall</th>\n",
              "      <th>Fertilizer_per_Area</th>\n",
              "      <th>Pesticide_per_Area</th>\n",
              "    </tr>\n",
              "  </thead>\n",
              "  <tbody>\n",
              "    <tr>\n",
              "      <th>0</th>\n",
              "      <td>Arecanut</td>\n",
              "      <td>1997</td>\n",
              "      <td>Whole Year</td>\n",
              "      <td>Assam</td>\n",
              "      <td>2051.4</td>\n",
              "      <td>95.17</td>\n",
              "      <td>0.31</td>\n",
              "    </tr>\n",
              "    <tr>\n",
              "      <th>1</th>\n",
              "      <td>Arhar/Tur</td>\n",
              "      <td>1997</td>\n",
              "      <td>Kharif</td>\n",
              "      <td>Assam</td>\n",
              "      <td>2051.4</td>\n",
              "      <td>95.17</td>\n",
              "      <td>0.31</td>\n",
              "    </tr>\n",
              "    <tr>\n",
              "      <th>2</th>\n",
              "      <td>Castor seed</td>\n",
              "      <td>1997</td>\n",
              "      <td>Kharif</td>\n",
              "      <td>Assam</td>\n",
              "      <td>2051.4</td>\n",
              "      <td>95.17</td>\n",
              "      <td>0.31</td>\n",
              "    </tr>\n",
              "    <tr>\n",
              "      <th>4</th>\n",
              "      <td>Cotton(lint)</td>\n",
              "      <td>1997</td>\n",
              "      <td>Kharif</td>\n",
              "      <td>Assam</td>\n",
              "      <td>2051.4</td>\n",
              "      <td>95.17</td>\n",
              "      <td>0.31</td>\n",
              "    </tr>\n",
              "    <tr>\n",
              "      <th>5</th>\n",
              "      <td>Dry chillies</td>\n",
              "      <td>1997</td>\n",
              "      <td>Whole Year</td>\n",
              "      <td>Assam</td>\n",
              "      <td>2051.4</td>\n",
              "      <td>95.17</td>\n",
              "      <td>0.31</td>\n",
              "    </tr>\n",
              "  </tbody>\n",
              "</table>\n",
              "</div>\n",
              "    <div class=\"colab-df-buttons\">\n",
              "\n",
              "  <div class=\"colab-df-container\">\n",
              "    <button class=\"colab-df-convert\" onclick=\"convertToInteractive('df-2622d246-d25f-4d12-be9c-f60ca95d771c')\"\n",
              "            title=\"Convert this dataframe to an interactive table.\"\n",
              "            style=\"display:none;\">\n",
              "\n",
              "  <svg xmlns=\"http://www.w3.org/2000/svg\" height=\"24px\" viewBox=\"0 -960 960 960\">\n",
              "    <path d=\"M120-120v-720h720v720H120Zm60-500h600v-160H180v160Zm220 220h160v-160H400v160Zm0 220h160v-160H400v160ZM180-400h160v-160H180v160Zm440 0h160v-160H620v160ZM180-180h160v-160H180v160Zm440 0h160v-160H620v160Z\"/>\n",
              "  </svg>\n",
              "    </button>\n",
              "\n",
              "  <style>\n",
              "    .colab-df-container {\n",
              "      display:flex;\n",
              "      gap: 12px;\n",
              "    }\n",
              "\n",
              "    .colab-df-convert {\n",
              "      background-color: #E8F0FE;\n",
              "      border: none;\n",
              "      border-radius: 50%;\n",
              "      cursor: pointer;\n",
              "      display: none;\n",
              "      fill: #1967D2;\n",
              "      height: 32px;\n",
              "      padding: 0 0 0 0;\n",
              "      width: 32px;\n",
              "    }\n",
              "\n",
              "    .colab-df-convert:hover {\n",
              "      background-color: #E2EBFA;\n",
              "      box-shadow: 0px 1px 2px rgba(60, 64, 67, 0.3), 0px 1px 3px 1px rgba(60, 64, 67, 0.15);\n",
              "      fill: #174EA6;\n",
              "    }\n",
              "\n",
              "    .colab-df-buttons div {\n",
              "      margin-bottom: 4px;\n",
              "    }\n",
              "\n",
              "    [theme=dark] .colab-df-convert {\n",
              "      background-color: #3B4455;\n",
              "      fill: #D2E3FC;\n",
              "    }\n",
              "\n",
              "    [theme=dark] .colab-df-convert:hover {\n",
              "      background-color: #434B5C;\n",
              "      box-shadow: 0px 1px 3px 1px rgba(0, 0, 0, 0.15);\n",
              "      filter: drop-shadow(0px 1px 2px rgba(0, 0, 0, 0.3));\n",
              "      fill: #FFFFFF;\n",
              "    }\n",
              "  </style>\n",
              "\n",
              "    <script>\n",
              "      const buttonEl =\n",
              "        document.querySelector('#df-2622d246-d25f-4d12-be9c-f60ca95d771c button.colab-df-convert');\n",
              "      buttonEl.style.display =\n",
              "        google.colab.kernel.accessAllowed ? 'block' : 'none';\n",
              "\n",
              "      async function convertToInteractive(key) {\n",
              "        const element = document.querySelector('#df-2622d246-d25f-4d12-be9c-f60ca95d771c');\n",
              "        const dataTable =\n",
              "          await google.colab.kernel.invokeFunction('convertToInteractive',\n",
              "                                                    [key], {});\n",
              "        if (!dataTable) return;\n",
              "\n",
              "        const docLinkHtml = 'Like what you see? Visit the ' +\n",
              "          '<a target=\"_blank\" href=https://colab.research.google.com/notebooks/data_table.ipynb>data table notebook</a>'\n",
              "          + ' to learn more about interactive tables.';\n",
              "        element.innerHTML = '';\n",
              "        dataTable['output_type'] = 'display_data';\n",
              "        await google.colab.output.renderOutput(dataTable, element);\n",
              "        const docLink = document.createElement('div');\n",
              "        docLink.innerHTML = docLinkHtml;\n",
              "        element.appendChild(docLink);\n",
              "      }\n",
              "    </script>\n",
              "  </div>\n",
              "\n",
              "\n",
              "    <div id=\"df-f25d8b91-c0ff-42f6-8300-73c56e2ecf07\">\n",
              "      <button class=\"colab-df-quickchart\" onclick=\"quickchart('df-f25d8b91-c0ff-42f6-8300-73c56e2ecf07')\"\n",
              "                title=\"Suggest charts\"\n",
              "                style=\"display:none;\">\n",
              "\n",
              "<svg xmlns=\"http://www.w3.org/2000/svg\" height=\"24px\"viewBox=\"0 0 24 24\"\n",
              "     width=\"24px\">\n",
              "    <g>\n",
              "        <path d=\"M19 3H5c-1.1 0-2 .9-2 2v14c0 1.1.9 2 2 2h14c1.1 0 2-.9 2-2V5c0-1.1-.9-2-2-2zM9 17H7v-7h2v7zm4 0h-2V7h2v10zm4 0h-2v-4h2v4z\"/>\n",
              "    </g>\n",
              "</svg>\n",
              "      </button>\n",
              "\n",
              "<style>\n",
              "  .colab-df-quickchart {\n",
              "      --bg-color: #E8F0FE;\n",
              "      --fill-color: #1967D2;\n",
              "      --hover-bg-color: #E2EBFA;\n",
              "      --hover-fill-color: #174EA6;\n",
              "      --disabled-fill-color: #AAA;\n",
              "      --disabled-bg-color: #DDD;\n",
              "  }\n",
              "\n",
              "  [theme=dark] .colab-df-quickchart {\n",
              "      --bg-color: #3B4455;\n",
              "      --fill-color: #D2E3FC;\n",
              "      --hover-bg-color: #434B5C;\n",
              "      --hover-fill-color: #FFFFFF;\n",
              "      --disabled-bg-color: #3B4455;\n",
              "      --disabled-fill-color: #666;\n",
              "  }\n",
              "\n",
              "  .colab-df-quickchart {\n",
              "    background-color: var(--bg-color);\n",
              "    border: none;\n",
              "    border-radius: 50%;\n",
              "    cursor: pointer;\n",
              "    display: none;\n",
              "    fill: var(--fill-color);\n",
              "    height: 32px;\n",
              "    padding: 0;\n",
              "    width: 32px;\n",
              "  }\n",
              "\n",
              "  .colab-df-quickchart:hover {\n",
              "    background-color: var(--hover-bg-color);\n",
              "    box-shadow: 0 1px 2px rgba(60, 64, 67, 0.3), 0 1px 3px 1px rgba(60, 64, 67, 0.15);\n",
              "    fill: var(--button-hover-fill-color);\n",
              "  }\n",
              "\n",
              "  .colab-df-quickchart-complete:disabled,\n",
              "  .colab-df-quickchart-complete:disabled:hover {\n",
              "    background-color: var(--disabled-bg-color);\n",
              "    fill: var(--disabled-fill-color);\n",
              "    box-shadow: none;\n",
              "  }\n",
              "\n",
              "  .colab-df-spinner {\n",
              "    border: 2px solid var(--fill-color);\n",
              "    border-color: transparent;\n",
              "    border-bottom-color: var(--fill-color);\n",
              "    animation:\n",
              "      spin 1s steps(1) infinite;\n",
              "  }\n",
              "\n",
              "  @keyframes spin {\n",
              "    0% {\n",
              "      border-color: transparent;\n",
              "      border-bottom-color: var(--fill-color);\n",
              "      border-left-color: var(--fill-color);\n",
              "    }\n",
              "    20% {\n",
              "      border-color: transparent;\n",
              "      border-left-color: var(--fill-color);\n",
              "      border-top-color: var(--fill-color);\n",
              "    }\n",
              "    30% {\n",
              "      border-color: transparent;\n",
              "      border-left-color: var(--fill-color);\n",
              "      border-top-color: var(--fill-color);\n",
              "      border-right-color: var(--fill-color);\n",
              "    }\n",
              "    40% {\n",
              "      border-color: transparent;\n",
              "      border-right-color: var(--fill-color);\n",
              "      border-top-color: var(--fill-color);\n",
              "    }\n",
              "    60% {\n",
              "      border-color: transparent;\n",
              "      border-right-color: var(--fill-color);\n",
              "    }\n",
              "    80% {\n",
              "      border-color: transparent;\n",
              "      border-right-color: var(--fill-color);\n",
              "      border-bottom-color: var(--fill-color);\n",
              "    }\n",
              "    90% {\n",
              "      border-color: transparent;\n",
              "      border-bottom-color: var(--fill-color);\n",
              "    }\n",
              "  }\n",
              "</style>\n",
              "\n",
              "      <script>\n",
              "        async function quickchart(key) {\n",
              "          const quickchartButtonEl =\n",
              "            document.querySelector('#' + key + ' button');\n",
              "          quickchartButtonEl.disabled = true;  // To prevent multiple clicks.\n",
              "          quickchartButtonEl.classList.add('colab-df-spinner');\n",
              "          try {\n",
              "            const charts = await google.colab.kernel.invokeFunction(\n",
              "                'suggestCharts', [key], {});\n",
              "          } catch (error) {\n",
              "            console.error('Error during call to suggestCharts:', error);\n",
              "          }\n",
              "          quickchartButtonEl.classList.remove('colab-df-spinner');\n",
              "          quickchartButtonEl.classList.add('colab-df-quickchart-complete');\n",
              "        }\n",
              "        (() => {\n",
              "          let quickchartButtonEl =\n",
              "            document.querySelector('#df-f25d8b91-c0ff-42f6-8300-73c56e2ecf07 button');\n",
              "          quickchartButtonEl.style.display =\n",
              "            google.colab.kernel.accessAllowed ? 'block' : 'none';\n",
              "        })();\n",
              "      </script>\n",
              "    </div>\n",
              "\n",
              "    </div>\n",
              "  </div>\n"
            ],
            "application/vnd.google.colaboratory.intrinsic+json": {
              "type": "dataframe",
              "variable_name": "X",
              "summary": "{\n  \"name\": \"X\",\n  \"rows\": 19517,\n  \"fields\": [\n    {\n      \"column\": \"Crop\",\n      \"properties\": {\n        \"dtype\": \"category\",\n        \"num_unique_values\": 54,\n        \"samples\": [\n          \"Sweet potato\",\n          \"Cowpea(Lobia)\",\n          \"Other Cereals\"\n        ],\n        \"semantic_type\": \"\",\n        \"description\": \"\"\n      }\n    },\n    {\n      \"column\": \"Crop_Year\",\n      \"properties\": {\n        \"dtype\": \"number\",\n        \"std\": 6,\n        \"min\": 1997,\n        \"max\": 2020,\n        \"num_unique_values\": 24,\n        \"samples\": [\n          2005,\n          2013,\n          1997\n        ],\n        \"semantic_type\": \"\",\n        \"description\": \"\"\n      }\n    },\n    {\n      \"column\": \"Season\",\n      \"properties\": {\n        \"dtype\": \"category\",\n        \"num_unique_values\": 6,\n        \"samples\": [\n          \"Whole Year \",\n          \"Kharif     \",\n          \"Winter     \"\n        ],\n        \"semantic_type\": \"\",\n        \"description\": \"\"\n      }\n    },\n    {\n      \"column\": \"State\",\n      \"properties\": {\n        \"dtype\": \"category\",\n        \"num_unique_values\": 30,\n        \"samples\": [\n          \"Telangana\",\n          \"Punjab\",\n          \"Jharkhand\"\n        ],\n        \"semantic_type\": \"\",\n        \"description\": \"\"\n      }\n    },\n    {\n      \"column\": \"Annual_Rainfall\",\n      \"properties\": {\n        \"dtype\": \"number\",\n        \"std\": 815.9168597720619,\n        \"min\": 301.3,\n        \"max\": 6552.7,\n        \"num_unique_values\": 634,\n        \"samples\": [\n          1019.9,\n          1711.5,\n          800.8\n        ],\n        \"semantic_type\": \"\",\n        \"description\": \"\"\n      }\n    },\n    {\n      \"column\": \"Fertilizer_per_Area\",\n      \"properties\": {\n        \"dtype\": \"number\",\n        \"std\": 26.200395183639607,\n        \"min\": 94.66990533009468,\n        \"max\": 193.60999999934853,\n        \"num_unique_values\": 18421,\n        \"samples\": [\n          98.79999999849782,\n          106.12999999964612,\n          153.2499997759503\n        ],\n        \"semantic_type\": \"\",\n        \"description\": \"\"\n      }\n    },\n    {\n      \"column\": \"Pesticide_per_Area\",\n      \"properties\": {\n        \"dtype\": \"number\",\n        \"std\": 0.07328904034439751,\n        \"min\": 0.08999991000009,\n        \"max\": 0.37999999999996104,\n        \"num_unique_values\": 17925,\n        \"samples\": [\n          0.15999999999968473,\n          0.34999999953020133,\n          0.37999999985654964\n        ],\n        \"semantic_type\": \"\",\n        \"description\": \"\"\n      }\n    }\n  ]\n}"
            }
          },
          "metadata": {},
          "execution_count": 5
        }
      ]
    },
    {
      "cell_type": "code",
      "source": [
        "y.head()"
      ],
      "metadata": {
        "id": "AASdZzLV0GYG",
        "outputId": "4e022f64-9cad-4781-e93a-756f2cac1b33",
        "colab": {
          "base_uri": "https://localhost:8080/",
          "height": 241
        }
      },
      "execution_count": 6,
      "outputs": [
        {
          "output_type": "execute_result",
          "data": {
            "text/plain": [
              "0    0.796087\n",
              "1    0.710435\n",
              "2    0.238333\n",
              "4    0.420909\n",
              "5    0.643636\n",
              "Name: Yield, dtype: float64"
            ],
            "text/html": [
              "<div>\n",
              "<style scoped>\n",
              "    .dataframe tbody tr th:only-of-type {\n",
              "        vertical-align: middle;\n",
              "    }\n",
              "\n",
              "    .dataframe tbody tr th {\n",
              "        vertical-align: top;\n",
              "    }\n",
              "\n",
              "    .dataframe thead th {\n",
              "        text-align: right;\n",
              "    }\n",
              "</style>\n",
              "<table border=\"1\" class=\"dataframe\">\n",
              "  <thead>\n",
              "    <tr style=\"text-align: right;\">\n",
              "      <th></th>\n",
              "      <th>Yield</th>\n",
              "    </tr>\n",
              "  </thead>\n",
              "  <tbody>\n",
              "    <tr>\n",
              "      <th>0</th>\n",
              "      <td>0.796087</td>\n",
              "    </tr>\n",
              "    <tr>\n",
              "      <th>1</th>\n",
              "      <td>0.710435</td>\n",
              "    </tr>\n",
              "    <tr>\n",
              "      <th>2</th>\n",
              "      <td>0.238333</td>\n",
              "    </tr>\n",
              "    <tr>\n",
              "      <th>4</th>\n",
              "      <td>0.420909</td>\n",
              "    </tr>\n",
              "    <tr>\n",
              "      <th>5</th>\n",
              "      <td>0.643636</td>\n",
              "    </tr>\n",
              "  </tbody>\n",
              "</table>\n",
              "</div><br><label><b>dtype:</b> float64</label>"
            ]
          },
          "metadata": {},
          "execution_count": 6
        }
      ]
    },
    {
      "cell_type": "code",
      "source": [
        "print(df.select_dtypes(include='object').nunique())\n",
        "print(\"\\nOriginal shape:\", df.shape)"
      ],
      "metadata": {
        "id": "32GaAX7k0I80",
        "colab": {
          "base_uri": "https://localhost:8080/"
        },
        "outputId": "c39d3f8e-d728-47af-ec35-b7047263693f"
      },
      "execution_count": 7,
      "outputs": [
        {
          "output_type": "stream",
          "name": "stdout",
          "text": [
            "Crop      54\n",
            "Season     6\n",
            "State     30\n",
            "dtype: int64\n",
            "\n",
            "Original shape: (19517, 12)\n"
          ]
        }
      ]
    },
    {
      "cell_type": "code",
      "source": [
        "X_train, X_test, y_train, y_test = train_test_split(X, y, test_size=0.2, random_state=42)\n",
        "\n",
        "print(\"Training set shape:\", X_train.shape)\n",
        "print(\"Testing set shape:\", X_test.shape)"
      ],
      "metadata": {
        "colab": {
          "base_uri": "https://localhost:8080/"
        },
        "id": "vfL_IMPFbk9i",
        "outputId": "330cdfd7-ec71-4b23-ab50-c5af350384ca"
      },
      "execution_count": 8,
      "outputs": [
        {
          "output_type": "stream",
          "name": "stdout",
          "text": [
            "Training set shape: (15613, 7)\n",
            "Testing set shape: (3904, 7)\n"
          ]
        }
      ]
    },
    {
      "cell_type": "code",
      "source": [
        "# Transform the target variable to a logarithmic scale\n",
        "y_train_log = np.log1p(y_train)\n",
        "y_test_log = np.log1p(y_test)\n",
        "\n",
        "print(\"Original y_test sample:\", y_test.head().values)\n",
        "print(\"Log-transformed y_test sample:\", y_test_log.head().values)"
      ],
      "metadata": {
        "colab": {
          "base_uri": "https://localhost:8080/"
        },
        "id": "AcU_RO4QEJOL",
        "outputId": "695ca67f-77dc-41d2-a21a-2c3e494d450b"
      },
      "execution_count": 9,
      "outputs": [
        {
          "output_type": "stream",
          "name": "stdout",
          "text": [
            "Original y_test sample: [0.98243243 0.78       2.12       0.52538461 0.637     ]\n",
            "Log-transformed y_test sample: [0.68432459 0.57661336 1.137833   0.42224658 0.4928653 ]\n"
          ]
        }
      ]
    },
    {
      "cell_type": "markdown",
      "source": [
        "### Feature Engineering"
      ],
      "metadata": {
        "id": "EBpFgLC1arMr"
      }
    },
    {
      "cell_type": "code",
      "source": [
        "# for target encoding, the columns that have too many categories\n",
        "\n",
        "target_cols = ['Crop', 'State']\n",
        "encoder = ce.TargetEncoder(cols=target_cols, smoothing=10)\n",
        "encoder.fit(X_train, y_train_log)\n",
        "\n",
        "X_train_target_encoded = encoder.transform(X_train)\n",
        "X_test_target_encoded = encoder.transform(X_test)\n",
        "\n",
        "print(\"\\nPreview of the data after Target Encoding:\");\n",
        "print(X_train_target_encoded.head())"
      ],
      "metadata": {
        "colab": {
          "base_uri": "https://localhost:8080/"
        },
        "id": "2S4Cp40uZi_-",
        "outputId": "77e89fff-3799-49ed-ab4e-edacee553fe5"
      },
      "execution_count": 10,
      "outputs": [
        {
          "output_type": "stream",
          "name": "stdout",
          "text": [
            "\n",
            "Preview of the data after Target Encoding:\n",
            "           Crop  Crop_Year       Season     State  Annual_Rainfall  \\\n",
            "3135   0.760791       2010  Rabi         1.015058           2578.5   \n",
            "13445  0.718451       2013  Kharif       1.185713           1348.7   \n",
            "16824  0.445162       2019  Kharif       1.101391            351.8   \n",
            "7013   0.411932       1999  Summer       1.122310            883.4   \n",
            "4069   0.597754       2013  Whole Year   1.221905            740.9   \n",
            "\n",
            "       Fertilizer_per_Area  Pesticide_per_Area  \n",
            "3135            166.110000                0.24  \n",
            "13445           144.490000                0.27  \n",
            "16824           171.759999                0.37  \n",
            "7013            106.130000                0.27  \n",
            "4069            144.490000                0.27  \n"
          ]
        }
      ]
    },
    {
      "cell_type": "code",
      "source": [
        "# one-hot encoding the 'Season' column\n",
        "all_seasons = df['Season'].unique().tolist()\n",
        "print(f\"Master list of all seasons: {all_seasons}\")\n",
        "\n",
        "# converting the 'Season' column into the different categories\n",
        "X_train_target_encoded['Season'] = pd.Categorical(\n",
        "    X_train_target_encoded['Season'],\n",
        "    categories=all_seasons\n",
        ")\n",
        "\n",
        "X_test_target_encoded['Season'] = pd.Categorical(\n",
        "    X_test_target_encoded['Season'],\n",
        "    categories=all_seasons\n",
        ")\n",
        "\n",
        "# one-hot encoding\n",
        "X_train_final = pd.get_dummies(X_train_target_encoded, columns=['Season'], dtype=int)\n",
        "X_test_final = pd.get_dummies(X_test_target_encoded, columns=['Season'], dtype=int)\n",
        "\n",
        "print(\"One-hot encoding applied. The 'Season' column has been replaced.\")\n",
        "print(\"\\nPreview of the training data with new 'Season' columns:\")\n",
        "print(X_train_final.head())"
      ],
      "metadata": {
        "colab": {
          "base_uri": "https://localhost:8080/"
        },
        "id": "dBpuEYIETgM3",
        "outputId": "03b7d144-0385-48e6-c702-2b7ac52671ac"
      },
      "execution_count": 11,
      "outputs": [
        {
          "output_type": "stream",
          "name": "stdout",
          "text": [
            "Master list of all seasons: ['Whole Year ', 'Kharif     ', 'Rabi       ', 'Autumn     ', 'Summer     ', 'Winter     ']\n",
            "One-hot encoding applied. The 'Season' column has been replaced.\n",
            "\n",
            "Preview of the training data with new 'Season' columns:\n",
            "           Crop  Crop_Year     State  Annual_Rainfall  Fertilizer_per_Area  \\\n",
            "3135   0.760791       2010  1.015058           2578.5           166.110000   \n",
            "13445  0.718451       2013  1.185713           1348.7           144.490000   \n",
            "16824  0.445162       2019  1.101391            351.8           171.759999   \n",
            "7013   0.411932       1999  1.122310            883.4           106.130000   \n",
            "4069   0.597754       2013  1.221905            740.9           144.490000   \n",
            "\n",
            "       Pesticide_per_Area  Season_Whole Year   Season_Kharif       \\\n",
            "3135                 0.24                   0                   0   \n",
            "13445                0.27                   0                   1   \n",
            "16824                0.37                   0                   1   \n",
            "7013                 0.27                   0                   0   \n",
            "4069                 0.27                   1                   0   \n",
            "\n",
            "       Season_Rabi         Season_Autumn       Season_Summer       \\\n",
            "3135                    1                   0                   0   \n",
            "13445                   0                   0                   0   \n",
            "16824                   0                   0                   0   \n",
            "7013                    0                   0                   1   \n",
            "4069                    0                   0                   0   \n",
            "\n",
            "       Season_Winter       \n",
            "3135                    0  \n",
            "13445                   0  \n",
            "16824                   0  \n",
            "7013                    0  \n",
            "4069                    0  \n"
          ]
        }
      ]
    },
    {
      "cell_type": "markdown",
      "source": [
        "### Defining the XGBoost model"
      ],
      "metadata": {
        "id": "HQssDeYMxqDS"
      }
    },
    {
      "cell_type": "code",
      "source": [
        "xgb_model = xgb.XGBRegressor(\n",
        "    objective='reg:squarederror', # this is for minimizing the squared error\n",
        "    n_estimators=2000, # number of decision trees in the ensemble (in sequence)\n",
        "    learning_rate=0.3,\n",
        "    early_stopping_rounds=50,\n",
        "    seed = 59\n",
        ")\n",
        "\n",
        "print(\"XGBoost model initialized\")"
      ],
      "metadata": {
        "colab": {
          "base_uri": "https://localhost:8080/"
        },
        "id": "_iiwSrfarPM7",
        "outputId": "e352dffe-a142-40e0-8f89-f93a80cf31c9"
      },
      "execution_count": 12,
      "outputs": [
        {
          "output_type": "stream",
          "name": "stdout",
          "text": [
            "XGBoost model initialized\n"
          ]
        }
      ]
    },
    {
      "cell_type": "code",
      "source": [
        "print(\"Training... (This may take a moment)\")\n",
        "\n",
        "eval_set = [(X_test_final, y_test_log,)]\n",
        "\n",
        "xgb_model.fit(\n",
        "    X_train_final,\n",
        "    y_train_log,\n",
        "    eval_set=eval_set,\n",
        "    verbose=False\n",
        ")\n",
        "\n",
        "print(\"Model done training!\")"
      ],
      "metadata": {
        "colab": {
          "base_uri": "https://localhost:8080/"
        },
        "id": "CYR3Yy7Tw0jl",
        "outputId": "a89834ae-a849-4ba5-e1a8-61822dfff9d9"
      },
      "execution_count": 13,
      "outputs": [
        {
          "output_type": "stream",
          "name": "stdout",
          "text": [
            "Training... (This may take a moment)\n",
            "Model done training!\n"
          ]
        }
      ]
    },
    {
      "cell_type": "markdown",
      "source": [
        "### Evaluation"
      ],
      "metadata": {
        "id": "0RQMCZ5be1Kq"
      }
    },
    {
      "cell_type": "code",
      "source": [
        "y_pred_train_log = xgb_model.predict(X_train_final)\n",
        "y_pred_original_train = np.expm1(y_pred_train_log)\n",
        "\n",
        "r2 = r2_score(y_train, y_pred_original_train)\n",
        "mae = mean_absolute_error(y_train, y_pred_original_train)\n",
        "rmse = np.sqrt(mean_squared_error(y_train, y_pred_original_train))\n",
        "medae = median_absolute_error(y_train, y_pred_original_train)\n",
        "\n",
        "print(\"Final Model Performance on the Train Set:\")\n",
        "print(f\"R-squared (R²): {r2:.4f}  (Explains {r2*100:.2f}% of the variance)\")\n",
        "print(f\"Mean Absolute Error (MAE): {mae:.4f}\")\n",
        "print(f\"Root Mean Squared Error (RMSE): {rmse:.4f}\")\n",
        "print(f\"Median Absolute Error (MedAE): {medae:.4f}\")"
      ],
      "metadata": {
        "colab": {
          "base_uri": "https://localhost:8080/"
        },
        "id": "xm0XsqRUVwaI",
        "outputId": "1aa21bfb-5728-46db-c72f-c3670e0d72cf"
      },
      "execution_count": 14,
      "outputs": [
        {
          "output_type": "stream",
          "name": "stdout",
          "text": [
            "Final Model Performance on the Train Set:\n",
            "R-squared (R²): 0.9909  (Explains 99.09% of the variance)\n",
            "Mean Absolute Error (MAE): 0.2198\n",
            "Root Mean Squared Error (RMSE): 1.4338\n",
            "Median Absolute Error (MedAE): 0.0671\n"
          ]
        }
      ]
    },
    {
      "cell_type": "code",
      "source": [
        "y_pred_log = xgb_model.predict(X_test_final)\n",
        "y_pred_original = np.expm1(y_pred_log)\n",
        "\n",
        "r2 = r2_score(y_test, y_pred_original)\n",
        "mae = mean_absolute_error(y_test, y_pred_original)\n",
        "rmse = np.sqrt(mean_squared_error(y_test, y_pred_original))\n",
        "medae = median_absolute_error(y_test, y_pred_original)\n",
        "\n",
        "\n",
        "print(\"Final Model Performance on the Test Set\")\n",
        "print(f\"R-squared (R²): {r2:.4f}  (Explains {r2*100:.2f}% of the variance)\")\n",
        "print(f\"Mean Absolute Error (MAE): {mae:.4f}\")\n",
        "print(f\"Root Mean Squared Error (RMSE): {rmse:.4f}\")\n",
        "print(f\"Median Absolute Error (MedAE): {medae:.4f}\")"
      ],
      "metadata": {
        "colab": {
          "base_uri": "https://localhost:8080/"
        },
        "id": "TtswjBYWxB8L",
        "outputId": "acb2e07d-ba19-441b-cdad-300470e01406"
      },
      "execution_count": 15,
      "outputs": [
        {
          "output_type": "stream",
          "name": "stdout",
          "text": [
            "Final Model Performance on the Test Set\n",
            "R-squared (R²): 0.9156  (Explains 91.56% of the variance)\n",
            "Mean Absolute Error (MAE): 0.9661\n",
            "Root Mean Squared Error (RMSE): 3.6518\n",
            "Median Absolute Error (MedAE): 0.1770\n"
          ]
        }
      ]
    },
    {
      "cell_type": "code",
      "source": [
        "import matplotlib.pyplot as plt\n",
        "import seaborn as sns\n",
        "\n",
        "sns.set_style('whitegrid')\n",
        "\n",
        "plt.figure(figsize=(10, 8))\n",
        "sns.scatterplot(x=y_test, y=y_pred_original, alpha=0.6)\n",
        "\n",
        "max_val = max(y_test.max(), y_pred_original.max())\n",
        "plt.plot([0, max_val], [0, max_val], color='red', linestyle='--', lw=2, label='Perfect Prediction Line')\n",
        "\n",
        "plt.title('Actual vs. Predicted Yield', fontsize=16)\n",
        "plt.xlabel('Actual Yield', fontsize=12)\n",
        "plt.ylabel('Predicted Yield', fontsize=12)\n",
        "plt.legend()\n",
        "plt.show()"
      ],
      "metadata": {
        "colab": {
          "base_uri": "https://localhost:8080/",
          "height": 671
        },
        "id": "G5GuBhjjbY1U",
        "outputId": "dd20434b-ff94-480d-e7b4-13e7096c19ff"
      },
      "execution_count": 16,
      "outputs": [
        {
          "output_type": "display_data",
          "data": {
            "text/plain": [
              "<Figure size 1000x800 with 1 Axes>"
            ],
            "image/png": "[encoded data removed]"
          },
          "metadata": {}
        }
      ]
    },
    {
      "cell_type": "code",
      "source": [],
      "metadata": {
        "id": "wdOQhkReci-J"
      },
      "execution_count": 16,
      "outputs": []
    }
  ]
}